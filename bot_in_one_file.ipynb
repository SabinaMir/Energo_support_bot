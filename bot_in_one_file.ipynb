{
 "cells": [
  {
   "cell_type": "raw",
   "metadata": {
    "vscode": {
     "languageId": "raw"
    }
   },
   "source": [
    "# RAG-based Legal Assistant Telegram Bot\n",
    "\n",
    "Этот ноутбук содержит полную реализацию Telegram-бота с RAG системой для юридической поддержки энергетической компании.\n",
    "\n",
    "**Перед запуском:**\n",
    "1. Убедитесь, что файл `laws_docx.zip` находится в той же папке\n",
    "2. Замените `YOUR_TELEGRAM_BOT_TOKEN` и `YOUR_NEBIUS_AI_API_KEY` на ваши реальные ключи в ячейке конфигурации\n"
   ]
  },
  {
   "cell_type": "raw",
   "metadata": {
    "vscode": {
     "languageId": "raw"
    }
   },
   "source": [
    "## 1. Установка зависимостей\n"
   ]
  },
  {
   "cell_type": "code",
   "execution_count": 1,
   "metadata": {},
   "outputs": [
    {
     "name": "stdout",
     "output_type": "stream",
     "text": [
      "Requirement already satisfied: python-telegram-bot in ./venv/lib/python3.9/site-packages (22.2)\n",
      "Requirement already satisfied: openai in ./venv/lib/python3.9/site-packages (1.95.0)\n",
      "Requirement already satisfied: langchain-community in ./venv/lib/python3.9/site-packages (0.3.27)\n",
      "Requirement already satisfied: docx2txt in ./venv/lib/python3.9/site-packages (0.9)\n",
      "Requirement already satisfied: chromadb in ./venv/lib/python3.9/site-packages (1.0.15)\n",
      "Requirement already satisfied: sentence-transformers in ./venv/lib/python3.9/site-packages (5.0.0)\n",
      "Requirement already satisfied: tqdm in ./venv/lib/python3.9/site-packages (4.67.1)\n",
      "Requirement already satisfied: pandas in ./venv/lib/python3.9/site-packages (2.3.1)\n",
      "Requirement already satisfied: torch in ./venv/lib/python3.9/site-packages (2.7.1)\n",
      "Requirement already satisfied: transformers in ./venv/lib/python3.9/site-packages (4.53.1)\n",
      "Requirement already satisfied: nest_asyncio in ./venv/lib/python3.9/site-packages (1.6.0)\n",
      "Requirement already satisfied: httpx<0.29,>=0.27 in ./venv/lib/python3.9/site-packages (from python-telegram-bot) (0.28.1)\n",
      "Requirement already satisfied: sniffio in ./venv/lib/python3.9/site-packages (from openai) (1.3.1)\n",
      "Requirement already satisfied: distro<2,>=1.7.0 in ./venv/lib/python3.9/site-packages (from openai) (1.9.0)\n",
      "Requirement already satisfied: anyio<5,>=3.5.0 in ./venv/lib/python3.9/site-packages (from openai) (4.9.0)\n",
      "Requirement already satisfied: jiter<1,>=0.4.0 in ./venv/lib/python3.9/site-packages (from openai) (0.10.0)\n",
      "Requirement already satisfied: pydantic<3,>=1.9.0 in ./venv/lib/python3.9/site-packages (from openai) (2.11.7)\n",
      "Requirement already satisfied: typing-extensions<5,>=4.11 in ./venv/lib/python3.9/site-packages (from openai) (4.14.1)\n",
      "Requirement already satisfied: tenacity!=8.4.0,<10,>=8.1.0 in ./venv/lib/python3.9/site-packages (from langchain-community) (9.1.2)\n",
      "Requirement already satisfied: langchain-core<1.0.0,>=0.3.66 in ./venv/lib/python3.9/site-packages (from langchain-community) (0.3.68)\n",
      "Requirement already satisfied: langchain<1.0.0,>=0.3.26 in ./venv/lib/python3.9/site-packages (from langchain-community) (0.3.26)\n",
      "Requirement already satisfied: SQLAlchemy<3,>=1.4 in ./venv/lib/python3.9/site-packages (from langchain-community) (2.0.41)\n",
      "Requirement already satisfied: aiohttp<4.0.0,>=3.8.3 in ./venv/lib/python3.9/site-packages (from langchain-community) (3.12.14)\n",
      "Requirement already satisfied: requests<3,>=2 in ./venv/lib/python3.9/site-packages (from langchain-community) (2.32.4)\n",
      "Requirement already satisfied: dataclasses-json<0.7,>=0.5.7 in ./venv/lib/python3.9/site-packages (from langchain-community) (0.6.7)\n",
      "Requirement already satisfied: pydantic-settings<3.0.0,>=2.4.0 in ./venv/lib/python3.9/site-packages (from langchain-community) (2.10.1)\n",
      "Requirement already satisfied: PyYAML>=5.3 in ./venv/lib/python3.9/site-packages (from langchain-community) (6.0.2)\n",
      "Requirement already satisfied: langsmith>=0.1.125 in ./venv/lib/python3.9/site-packages (from langchain-community) (0.4.5)\n",
      "Requirement already satisfied: httpx-sse<1.0.0,>=0.4.0 in ./venv/lib/python3.9/site-packages (from langchain-community) (0.4.1)\n",
      "Requirement already satisfied: numpy>=1.26.2 in ./venv/lib/python3.9/site-packages (from langchain-community) (2.0.2)\n",
      "Requirement already satisfied: overrides>=7.3.1 in ./venv/lib/python3.9/site-packages (from chromadb) (7.7.0)\n",
      "Requirement already satisfied: orjson>=3.9.12 in ./venv/lib/python3.9/site-packages (from chromadb) (3.10.18)\n",
      "Requirement already satisfied: opentelemetry-api>=1.2.0 in ./venv/lib/python3.9/site-packages (from chromadb) (1.34.1)\n",
      "Requirement already satisfied: tokenizers>=0.13.2 in ./venv/lib/python3.9/site-packages (from chromadb) (0.21.2)\n",
      "Requirement already satisfied: pybase64>=1.4.1 in ./venv/lib/python3.9/site-packages (from chromadb) (1.4.1)\n",
      "Requirement already satisfied: onnxruntime>=1.14.1 in ./venv/lib/python3.9/site-packages (from chromadb) (1.19.2)\n",
      "Requirement already satisfied: build>=1.0.3 in ./venv/lib/python3.9/site-packages (from chromadb) (1.2.2.post1)\n",
      "Requirement already satisfied: mmh3>=4.0.1 in ./venv/lib/python3.9/site-packages (from chromadb) (5.1.0)\n",
      "Requirement already satisfied: grpcio>=1.58.0 in ./venv/lib/python3.9/site-packages (from chromadb) (1.73.1)\n",
      "Requirement already satisfied: jsonschema>=4.19.0 in ./venv/lib/python3.9/site-packages (from chromadb) (4.24.0)\n",
      "Requirement already satisfied: bcrypt>=4.0.1 in ./venv/lib/python3.9/site-packages (from chromadb) (4.3.0)\n",
      "Requirement already satisfied: opentelemetry-exporter-otlp-proto-grpc>=1.2.0 in ./venv/lib/python3.9/site-packages (from chromadb) (1.34.1)\n",
      "Requirement already satisfied: posthog<6.0.0,>=2.4.0 in ./venv/lib/python3.9/site-packages (from chromadb) (5.4.0)\n",
      "Requirement already satisfied: pypika>=0.48.9 in ./venv/lib/python3.9/site-packages (from chromadb) (0.48.9)\n",
      "Requirement already satisfied: importlib-resources in ./venv/lib/python3.9/site-packages (from chromadb) (6.5.2)\n",
      "Requirement already satisfied: uvicorn[standard]>=0.18.3 in ./venv/lib/python3.9/site-packages (from chromadb) (0.35.0)\n",
      "Requirement already satisfied: kubernetes>=28.1.0 in ./venv/lib/python3.9/site-packages (from chromadb) (33.1.0)\n",
      "Requirement already satisfied: rich>=10.11.0 in ./venv/lib/python3.9/site-packages (from chromadb) (14.0.0)\n",
      "Requirement already satisfied: opentelemetry-sdk>=1.2.0 in ./venv/lib/python3.9/site-packages (from chromadb) (1.34.1)\n",
      "Requirement already satisfied: typer>=0.9.0 in ./venv/lib/python3.9/site-packages (from chromadb) (0.16.0)\n",
      "Requirement already satisfied: huggingface-hub>=0.20.0 in ./venv/lib/python3.9/site-packages (from sentence-transformers) (0.33.2)\n",
      "Requirement already satisfied: scikit-learn in ./venv/lib/python3.9/site-packages (from sentence-transformers) (1.6.1)\n",
      "Requirement already satisfied: Pillow in ./venv/lib/python3.9/site-packages (from sentence-transformers) (11.3.0)\n",
      "Requirement already satisfied: scipy in ./venv/lib/python3.9/site-packages (from sentence-transformers) (1.13.1)\n",
      "Requirement already satisfied: pytz>=2020.1 in ./venv/lib/python3.9/site-packages (from pandas) (2025.2)\n",
      "Requirement already satisfied: python-dateutil>=2.8.2 in ./venv/lib/python3.9/site-packages (from pandas) (2.9.0.post0)\n",
      "Requirement already satisfied: tzdata>=2022.7 in ./venv/lib/python3.9/site-packages (from pandas) (2025.2)\n",
      "Requirement already satisfied: filelock in ./venv/lib/python3.9/site-packages (from torch) (3.18.0)\n",
      "Requirement already satisfied: sympy>=1.13.3 in ./venv/lib/python3.9/site-packages (from torch) (1.14.0)\n",
      "Requirement already satisfied: networkx in ./venv/lib/python3.9/site-packages (from torch) (3.2.1)\n",
      "Requirement already satisfied: fsspec in ./venv/lib/python3.9/site-packages (from torch) (2025.5.1)\n",
      "Requirement already satisfied: jinja2 in ./venv/lib/python3.9/site-packages (from torch) (3.1.6)\n",
      "Requirement already satisfied: safetensors>=0.4.3 in ./venv/lib/python3.9/site-packages (from transformers) (0.5.3)\n",
      "Requirement already satisfied: packaging>=20.0 in ./venv/lib/python3.9/site-packages (from transformers) (24.2)\n",
      "Requirement already satisfied: regex!=2019.12.17 in ./venv/lib/python3.9/site-packages (from transformers) (2024.11.6)\n",
      "Requirement already satisfied: multidict<7.0,>=4.5 in ./venv/lib/python3.9/site-packages (from aiohttp<4.0.0,>=3.8.3->langchain-community) (6.6.3)\n",
      "Requirement already satisfied: aiosignal>=1.4.0 in ./venv/lib/python3.9/site-packages (from aiohttp<4.0.0,>=3.8.3->langchain-community) (1.4.0)\n",
      "Requirement already satisfied: attrs>=17.3.0 in ./venv/lib/python3.9/site-packages (from aiohttp<4.0.0,>=3.8.3->langchain-community) (25.3.0)\n",
      "Requirement already satisfied: aiohappyeyeballs>=2.5.0 in ./venv/lib/python3.9/site-packages (from aiohttp<4.0.0,>=3.8.3->langchain-community) (2.6.1)\n",
      "Requirement already satisfied: yarl<2.0,>=1.17.0 in ./venv/lib/python3.9/site-packages (from aiohttp<4.0.0,>=3.8.3->langchain-community) (1.20.1)\n",
      "Requirement already satisfied: propcache>=0.2.0 in ./venv/lib/python3.9/site-packages (from aiohttp<4.0.0,>=3.8.3->langchain-community) (0.3.2)\n",
      "Requirement already satisfied: async-timeout<6.0,>=4.0 in ./venv/lib/python3.9/site-packages (from aiohttp<4.0.0,>=3.8.3->langchain-community) (4.0.3)\n",
      "Requirement already satisfied: frozenlist>=1.1.1 in ./venv/lib/python3.9/site-packages (from aiohttp<4.0.0,>=3.8.3->langchain-community) (1.7.0)\n",
      "Requirement already satisfied: idna>=2.8 in ./venv/lib/python3.9/site-packages (from anyio<5,>=3.5.0->openai) (3.10)\n",
      "Requirement already satisfied: exceptiongroup>=1.0.2 in ./venv/lib/python3.9/site-packages (from anyio<5,>=3.5.0->openai) (1.3.0)\n",
      "Requirement already satisfied: tomli>=1.1.0 in ./venv/lib/python3.9/site-packages (from build>=1.0.3->chromadb) (2.2.1)\n",
      "Requirement already satisfied: pyproject_hooks in ./venv/lib/python3.9/site-packages (from build>=1.0.3->chromadb) (1.2.0)\n",
      "Requirement already satisfied: importlib-metadata>=4.6 in ./venv/lib/python3.9/site-packages (from build>=1.0.3->chromadb) (8.7.0)\n",
      "Requirement already satisfied: marshmallow<4.0.0,>=3.18.0 in ./venv/lib/python3.9/site-packages (from dataclasses-json<0.7,>=0.5.7->langchain-community) (3.26.1)\n",
      "Requirement already satisfied: typing-inspect<1,>=0.4.0 in ./venv/lib/python3.9/site-packages (from dataclasses-json<0.7,>=0.5.7->langchain-community) (0.9.0)\n",
      "Requirement already satisfied: httpcore==1.* in ./venv/lib/python3.9/site-packages (from httpx<0.29,>=0.27->python-telegram-bot) (1.0.9)\n",
      "Requirement already satisfied: certifi in ./venv/lib/python3.9/site-packages (from httpx<0.29,>=0.27->python-telegram-bot) (2025.7.9)\n",
      "Requirement already satisfied: h11>=0.16 in ./venv/lib/python3.9/site-packages (from httpcore==1.*->httpx<0.29,>=0.27->python-telegram-bot) (0.16.0)\n",
      "Requirement already satisfied: hf-xet<2.0.0,>=1.1.2 in ./venv/lib/python3.9/site-packages (from huggingface-hub>=0.20.0->sentence-transformers) (1.1.5)\n",
      "Requirement already satisfied: zipp>=3.20 in ./venv/lib/python3.9/site-packages (from importlib-metadata>=4.6->build>=1.0.3->chromadb) (3.23.0)\n",
      "Requirement already satisfied: referencing>=0.28.4 in ./venv/lib/python3.9/site-packages (from jsonschema>=4.19.0->chromadb) (0.36.2)\n",
      "Requirement already satisfied: rpds-py>=0.7.1 in ./venv/lib/python3.9/site-packages (from jsonschema>=4.19.0->chromadb) (0.26.0)\n",
      "Requirement already satisfied: jsonschema-specifications>=2023.03.6 in ./venv/lib/python3.9/site-packages (from jsonschema>=4.19.0->chromadb) (2025.4.1)\n",
      "Requirement already satisfied: urllib3>=1.24.2 in ./venv/lib/python3.9/site-packages (from kubernetes>=28.1.0->chromadb) (2.5.0)\n",
      "Requirement already satisfied: requests-oauthlib in ./venv/lib/python3.9/site-packages (from kubernetes>=28.1.0->chromadb) (2.0.0)\n",
      "Requirement already satisfied: oauthlib>=3.2.2 in ./venv/lib/python3.9/site-packages (from kubernetes>=28.1.0->chromadb) (3.3.1)\n",
      "Requirement already satisfied: websocket-client!=0.40.0,!=0.41.*,!=0.42.*,>=0.32.0 in ./venv/lib/python3.9/site-packages (from kubernetes>=28.1.0->chromadb) (1.8.0)\n",
      "Requirement already satisfied: google-auth>=1.0.1 in ./venv/lib/python3.9/site-packages (from kubernetes>=28.1.0->chromadb) (2.40.3)\n",
      "Requirement already satisfied: six>=1.9.0 in ./venv/lib/python3.9/site-packages (from kubernetes>=28.1.0->chromadb) (1.17.0)\n",
      "Requirement already satisfied: durationpy>=0.7 in ./venv/lib/python3.9/site-packages (from kubernetes>=28.1.0->chromadb) (0.10)\n",
      "Requirement already satisfied: cachetools<6.0,>=2.0.0 in ./venv/lib/python3.9/site-packages (from google-auth>=1.0.1->kubernetes>=28.1.0->chromadb) (5.5.2)\n",
      "Requirement already satisfied: pyasn1-modules>=0.2.1 in ./venv/lib/python3.9/site-packages (from google-auth>=1.0.1->kubernetes>=28.1.0->chromadb) (0.4.2)\n",
      "Requirement already satisfied: rsa<5,>=3.1.4 in ./venv/lib/python3.9/site-packages (from google-auth>=1.0.1->kubernetes>=28.1.0->chromadb) (4.9.1)\n",
      "Requirement already satisfied: langchain-text-splitters<1.0.0,>=0.3.8 in ./venv/lib/python3.9/site-packages (from langchain<1.0.0,>=0.3.26->langchain-community) (0.3.8)\n",
      "Requirement already satisfied: jsonpatch<2.0,>=1.33 in ./venv/lib/python3.9/site-packages (from langchain-core<1.0.0,>=0.3.66->langchain-community) (1.33)\n",
      "Requirement already satisfied: jsonpointer>=1.9 in ./venv/lib/python3.9/site-packages (from jsonpatch<2.0,>=1.33->langchain-core<1.0.0,>=0.3.66->langchain-community) (3.0.0)\n",
      "Requirement already satisfied: zstandard<0.24.0,>=0.23.0 in ./venv/lib/python3.9/site-packages (from langsmith>=0.1.125->langchain-community) (0.23.0)\n",
      "Requirement already satisfied: requests-toolbelt<2.0.0,>=1.0.0 in ./venv/lib/python3.9/site-packages (from langsmith>=0.1.125->langchain-community) (1.0.0)\n",
      "Requirement already satisfied: protobuf in ./venv/lib/python3.9/site-packages (from onnxruntime>=1.14.1->chromadb) (5.29.5)\n",
      "Requirement already satisfied: flatbuffers in ./venv/lib/python3.9/site-packages (from onnxruntime>=1.14.1->chromadb) (25.2.10)\n",
      "Requirement already satisfied: coloredlogs in ./venv/lib/python3.9/site-packages (from onnxruntime>=1.14.1->chromadb) (15.0.1)\n",
      "Requirement already satisfied: opentelemetry-proto==1.34.1 in ./venv/lib/python3.9/site-packages (from opentelemetry-exporter-otlp-proto-grpc>=1.2.0->chromadb) (1.34.1)\n",
      "Requirement already satisfied: opentelemetry-exporter-otlp-proto-common==1.34.1 in ./venv/lib/python3.9/site-packages (from opentelemetry-exporter-otlp-proto-grpc>=1.2.0->chromadb) (1.34.1)\n",
      "Requirement already satisfied: googleapis-common-protos~=1.52 in ./venv/lib/python3.9/site-packages (from opentelemetry-exporter-otlp-proto-grpc>=1.2.0->chromadb) (1.70.0)\n",
      "Requirement already satisfied: opentelemetry-semantic-conventions==0.55b1 in ./venv/lib/python3.9/site-packages (from opentelemetry-sdk>=1.2.0->chromadb) (0.55b1)\n",
      "Requirement already satisfied: backoff>=1.10.0 in ./venv/lib/python3.9/site-packages (from posthog<6.0.0,>=2.4.0->chromadb) (2.2.1)\n",
      "Requirement already satisfied: pyasn1<0.7.0,>=0.6.1 in ./venv/lib/python3.9/site-packages (from pyasn1-modules>=0.2.1->google-auth>=1.0.1->kubernetes>=28.1.0->chromadb) (0.6.1)\n",
      "Requirement already satisfied: annotated-types>=0.6.0 in ./venv/lib/python3.9/site-packages (from pydantic<3,>=1.9.0->openai) (0.7.0)\n",
      "Requirement already satisfied: pydantic-core==2.33.2 in ./venv/lib/python3.9/site-packages (from pydantic<3,>=1.9.0->openai) (2.33.2)\n",
      "Requirement already satisfied: typing-inspection>=0.4.0 in ./venv/lib/python3.9/site-packages (from pydantic<3,>=1.9.0->openai) (0.4.1)\n",
      "Requirement already satisfied: python-dotenv>=0.21.0 in ./venv/lib/python3.9/site-packages (from pydantic-settings<3.0.0,>=2.4.0->langchain-community) (1.1.1)\n",
      "Requirement already satisfied: charset_normalizer<4,>=2 in ./venv/lib/python3.9/site-packages (from requests<3,>=2->langchain-community) (3.4.2)\n",
      "Requirement already satisfied: markdown-it-py>=2.2.0 in ./venv/lib/python3.9/site-packages (from rich>=10.11.0->chromadb) (3.0.0)\n",
      "Requirement already satisfied: pygments<3.0.0,>=2.13.0 in ./venv/lib/python3.9/site-packages (from rich>=10.11.0->chromadb) (2.19.2)\n",
      "Requirement already satisfied: mdurl~=0.1 in ./venv/lib/python3.9/site-packages (from markdown-it-py>=2.2.0->rich>=10.11.0->chromadb) (0.1.2)\n",
      "Requirement already satisfied: mpmath<1.4,>=1.1.0 in ./venv/lib/python3.9/site-packages (from sympy>=1.13.3->torch) (1.3.0)\n",
      "Requirement already satisfied: shellingham>=1.3.0 in ./venv/lib/python3.9/site-packages (from typer>=0.9.0->chromadb) (1.5.4)\n",
      "Requirement already satisfied: click>=8.0.0 in ./venv/lib/python3.9/site-packages (from typer>=0.9.0->chromadb) (8.1.8)\n",
      "Requirement already satisfied: mypy-extensions>=0.3.0 in ./venv/lib/python3.9/site-packages (from typing-inspect<1,>=0.4.0->dataclasses-json<0.7,>=0.5.7->langchain-community) (1.1.0)\n",
      "Requirement already satisfied: websockets>=10.4 in ./venv/lib/python3.9/site-packages (from uvicorn[standard]>=0.18.3->chromadb) (15.0.1)\n",
      "Requirement already satisfied: httptools>=0.6.3 in ./venv/lib/python3.9/site-packages (from uvicorn[standard]>=0.18.3->chromadb) (0.6.4)\n",
      "Requirement already satisfied: watchfiles>=0.13 in ./venv/lib/python3.9/site-packages (from uvicorn[standard]>=0.18.3->chromadb) (1.1.0)\n",
      "Requirement already satisfied: uvloop>=0.15.1 in ./venv/lib/python3.9/site-packages (from uvicorn[standard]>=0.18.3->chromadb) (0.21.0)\n",
      "Requirement already satisfied: humanfriendly>=9.1 in ./venv/lib/python3.9/site-packages (from coloredlogs->onnxruntime>=1.14.1->chromadb) (10.0)\n",
      "Requirement already satisfied: MarkupSafe>=2.0 in ./venv/lib/python3.9/site-packages (from jinja2->torch) (3.0.2)\n",
      "Requirement already satisfied: joblib>=1.2.0 in ./venv/lib/python3.9/site-packages (from scikit-learn->sentence-transformers) (1.5.1)\n",
      "Requirement already satisfied: threadpoolctl>=3.1.0 in ./venv/lib/python3.9/site-packages (from scikit-learn->sentence-transformers) (3.6.0)\n",
      "\u001b[33mWARNING: You are using pip version 21.2.4; however, version 25.1.1 is available.\n",
      "You should consider upgrading via the '/Users/hq-w7n17ktq29/cursor/tg_dummy/venv/bin/python -m pip install --upgrade pip' command.\u001b[0m\n",
      "Note: you may need to restart the kernel to use updated packages.\n"
     ]
    }
   ],
   "source": [
    "%pip install python-telegram-bot openai langchain-community docx2txt chromadb sentence-transformers tqdm pandas torch transformers nest_asyncio\n"
   ]
  },
  {
   "cell_type": "raw",
   "metadata": {
    "vscode": {
     "languageId": "raw"
    }
   },
   "source": [
    "## 2. Импорт всех необходимых библиотек\n"
   ]
  },
  {
   "cell_type": "code",
   "execution_count": 2,
   "metadata": {},
   "outputs": [
    {
     "name": "stderr",
     "output_type": "stream",
     "text": [
      "/Users/hq-w7n17ktq29/cursor/tg_dummy/venv/lib/python3.9/site-packages/urllib3/__init__.py:35: NotOpenSSLWarning: urllib3 v2 only supports OpenSSL 1.1.1+, currently the 'ssl' module is compiled with 'LibreSSL 2.8.3'. See: https://github.com/urllib3/urllib3/issues/3020\n",
      "  warnings.warn(\n"
     ]
    },
    {
     "name": "stdout",
     "output_type": "stream",
     "text": [
      "Все библиотеки успешно импортированы!\n"
     ]
    }
   ],
   "source": [
    "import os\n",
    "import zipfile\n",
    "import logging\n",
    "import csv\n",
    "from datetime import datetime\n",
    "\n",
    "from telegram import Update, ReplyKeyboardMarkup, KeyboardButton\n",
    "from telegram.ext import (\n",
    "    Application,\n",
    "    CommandHandler,\n",
    "    MessageHandler,\n",
    "    filters,\n",
    "    ContextTypes,\n",
    "    ConversationHandler,\n",
    ")\n",
    "from openai import OpenAI\n",
    "import nest_asyncio\n",
    "\n",
    "from langchain.retrievers import ParentDocumentRetriever\n",
    "from langchain_community.vectorstores import Chroma\n",
    "from langchain.text_splitter import RecursiveCharacterTextSplitter\n",
    "from langchain_core.stores import InMemoryStore\n",
    "from langchain_community.embeddings.sentence_transformer import SentenceTransformerEmbeddings\n",
    "from langchain_community.document_loaders import Docx2txtLoader\n",
    "\n",
    "print(\"Все библиотеки успешно импортированы!\")\n"
   ]
  },
  {
   "cell_type": "raw",
   "metadata": {
    "vscode": {
     "languageId": "raw"
    }
   },
   "source": [
    "## 3. Конфигурация\n",
    "\n",
    "⚠️ **ВАЖНО:** Замените заглушки на ваши реальные ключи перед запуском!\n"
   ]
  },
  {
   "cell_type": "code",
   "execution_count": 3,
   "metadata": {},
   "outputs": [
    {
     "name": "stdout",
     "output_type": "stream",
     "text": [
      "Директория 'laws_docx' уже существует. Пропускаю распаковку.\n",
      "Конфигурация завершена.\n"
     ]
    }
   ],
   "source": [
    "# Конфигурация - ЗАМЕНИТЕ НА ВАШИ РЕАЛЬНЫЕ КЛЮЧИ!\n",
    "TELEGRAM_BOT_TOKEN = \"YOUR_TELEGRAM_BOT_TOKEN\"\n",
    "OPENAI_API_KEY = \"YOUR_NEBIUS_AI_API_KEY\"\n",
    "BASE_URL = \"https://api.studio.nebius.com/v1/\"\n",
    "\n",
    "# Подготовка данных\n",
    "data_path = 'laws_docx'\n",
    "zip_file_path = 'laws_docx.zip'\n",
    "\n",
    "def unzip_if_needed(zip_path, extract_to):\n",
    "    \"\"\"Распаковывает архив, если целевая директория не существует.\"\"\"\n",
    "    if not os.path.exists(extract_to):\n",
    "        print(f\"Директория '{extract_to}' не найдена. Распаковываю '{zip_path}'...\")\n",
    "        with zipfile.ZipFile(zip_path, 'r') as zip_ref:\n",
    "            zip_ref.extractall('.')\n",
    "        print(\"Распаковка завершена.\")\n",
    "    else:\n",
    "        print(f\"Директория '{extract_to}' уже существует. Пропускаю распаковку.\")\n",
    "\n",
    "unzip_if_needed(zip_file_path, data_path)\n",
    "print(\"Конфигурация завершена.\")\n"
   ]
  },
  {
   "cell_type": "raw",
   "metadata": {
    "vscode": {
     "languageId": "raw"
    }
   },
   "source": [
    "## 4. Функции для работы с документами и RAG\n"
   ]
  },
  {
   "cell_type": "code",
   "execution_count": 4,
   "metadata": {},
   "outputs": [
    {
     "name": "stdout",
     "output_type": "stream",
     "text": [
      "Функции для работы с документами и RAG определены.\n"
     ]
    }
   ],
   "source": [
    "def get_docs(data_path):\n",
    "    \"\"\"Загружает документы .docx из указанной директории.\"\"\"\n",
    "    docs = []\n",
    "    files = os.listdir(data_path)\n",
    "    for file in files:\n",
    "        if file.endswith('.docx'):\n",
    "            loader = Docx2txtLoader(os.path.join(data_path, file))\n",
    "            doc = loader.load()\n",
    "            docs.append(doc[0])\n",
    "    return docs\n",
    "\n",
    "def create_retriever(docs, retriever_name='retriever', k=7, child_chunk_size=600, parent_chunk_size=3000):\n",
    "    \"\"\"Создает и настраивает ParentDocumentRetriever.\"\"\"\n",
    "    parent_splitter = RecursiveCharacterTextSplitter(chunk_size=parent_chunk_size)\n",
    "    child_splitter = RecursiveCharacterTextSplitter(chunk_size=child_chunk_size)\n",
    "    embedding_function = SentenceTransformerEmbeddings(model_name=\"sergeyzh/BERTA\")\n",
    "\n",
    "    print(\"Предупреждение: Используется хранилище в памяти. Эмбеддинги не будут сохранены.\")\n",
    "    store = InMemoryStore()\n",
    "    \n",
    "    vectorstore = Chroma(\n",
    "        collection_name=retriever_name,\n",
    "        embedding_function=embedding_function\n",
    "    )\n",
    "\n",
    "    retriever = ParentDocumentRetriever(\n",
    "        vectorstore=vectorstore,\n",
    "        docstore=store,\n",
    "        child_splitter=child_splitter,\n",
    "        parent_splitter=parent_splitter,\n",
    "        search_kwargs={\"k\": k}\n",
    "    )\n",
    "    \n",
    "    print(\"Добавление документов в хранилище. Это может занять некоторое время...\")\n",
    "    for doc in docs:\n",
    "        retriever.add_documents([doc])\n",
    "    print(\"Документы успешно добавлены.\")\n",
    "\n",
    "    return retriever\n",
    "\n",
    "def get_answer_with_llm(question, retriever, llm_client):\n",
    "    \"\"\"Получает ответ от LLM на основе вопроса и найденного контекста.\"\"\"\n",
    "    retrieved_docs = retriever.get_relevant_documents(question)\n",
    "    context = \" \".join([current_text.page_content for current_text in retrieved_docs])\n",
    "\n",
    "    prompt = f\"\"\"Ответь на вопрос основываясь только на контексте.\n",
    "    ВОПРОС: {question}\n",
    "    КОНТЕКСТ: {context}\n",
    "    \"\"\"\n",
    "\n",
    "    completion = llm_client.chat.completions.create(\n",
    "        model=\"Qwen/Qwen3-32B-fast\",\n",
    "        messages=[\n",
    "            {\"role\": \"user\", \"content\": prompt}\n",
    "        ]\n",
    "    )\n",
    "\n",
    "    raw_result = completion.choices[0].message.content\n",
    "\n",
    "    # Убираем блок с размышлениями, если он есть\n",
    "    if \"</think>\" in raw_result:\n",
    "        result = raw_result.split(\"</think>\", 1)[1].strip()\n",
    "    else:\n",
    "        result = raw_result.strip()\n",
    "\n",
    "    return result\n",
    "\n",
    "print(\"Функции для работы с документами и RAG определены.\")\n"
   ]
  },
  {
   "cell_type": "raw",
   "metadata": {
    "vscode": {
     "languageId": "raw"
    }
   },
   "source": [
    "## 5. Логика Telegram-бота\n"
   ]
  },
  {
   "cell_type": "code",
   "execution_count": 5,
   "metadata": {},
   "outputs": [
    {
     "name": "stdout",
     "output_type": "stream",
     "text": [
      "Константы и вспомогательные функции бота определены.\n"
     ]
    }
   ],
   "source": [
    "# Настройка для работы в Jupyter\n",
    "nest_asyncio.apply()\n",
    "\n",
    "logging.basicConfig(\n",
    "    format=\"%(asctime)s - %(name)s - %(levelname)s - %(message)s\", level=logging.INFO\n",
    ")\n",
    "logger = logging.getLogger(__name__)\n",
    "\n",
    "# Состояния диалога\n",
    "(\n",
    "    SELECTING_USER_TYPE,\n",
    "    SELECTING_TOPIC,\n",
    "    RAG_QUESTION,\n",
    "    FEEDBACK,\n",
    ") = range(4)\n",
    "\n",
    "# Кнопки интерфейса\n",
    "USER_TYPE_BUTTONS = [[\"Я физ. лицо\", \"Я юр. лицо\"]]\n",
    "TOPIC_BUTTONS = [\n",
    "    [\"Передать показания\", \"Оплатить услуги\"],\n",
    "    [\"Отключения\", \"Заключить договор\"],\n",
    "    [\"Подключиться к сетям\", \"Тарифы\"],\n",
    "    [\"Регистрация личного кабинета\", \"Прибор учета\"],\n",
    "    [\"Свой вопрос\"],\n",
    "    [\"Назад\"],\n",
    "]\n",
    "FEEDBACK_BUTTONS = [[\"👍\", \"👎\"]]\n",
    "\n",
    "# Предопределенные ответы для физ. лиц (сокращенная версия для демонстрации)\n",
    "PHYS_ANSWERS = {\n",
    "    \"Передать показания\": \"Срок передачи показаний с 1-го по 25-е число месяца. Передайте показания на сайте, в личном кабинете, мобильном приложении или через чат-бот Телеграм.\",\n",
    "    \"Оплатить услуги\": \"Оплатите услуги на сайте, через личный кабинет, мобильное приложение, банковские сервисы или подключите автоплатеж.\",\n",
    "    \"Отключения\": \"Информацию об отключениях смотрите на сайте. Сообщить об аварии можно через личный кабинет.\",\n",
    "    \"Заключить договор\": \"Направьте документы через сайт или мобильное приложение.\",\n",
    "    \"Подключиться к сетям\": \"Список документов доступен на сайте. Заявку можно подать через личный кабинет.\",\n",
    "    \"Тарифы\": \"Информация о тарифах доступна на официальном сайте компании.\",\n",
    "    \"Регистрация личного кабинета\": \"Используйте номер лицевого счета как логин и фамилию как пароль при первом входе.\",\n",
    "    \"Прибор учета\": \"Информация об установке и замене приборов учета доступна на сайте.\"\n",
    "}\n",
    "\n",
    "JUR_ANSWERS = {\n",
    "    \"Передать показания\": \"Передавайте показания через личный кабинет для бизнеса или бизнес-бот в Telegram.\",\n",
    "    \"Оплатить услуги\": \"Оплачивайте через личный кабинет для бизнеса, мобильное приложение или банковские сервисы.\",\n",
    "    \"Отключения\": \"Информация об отключениях на сайте. Сообщить об аварии: 8-800-100-9777.\",\n",
    "    \"Заключить договор\": \"Направьте документы через сайт или бизнес-приложение.\",\n",
    "    \"Подключиться к сетям\": \"Документы и заявки через сайт или личный кабинет ИЭСК.\",\n",
    "    \"Тарифы\": \"Информация о тарифах и ценах доступна на сайте.\",\n",
    "    \"Регистрация личного кабинета\": \"Используйте номер договора как логин и ИНН как пароль.\",\n",
    "    \"Прибор учета\": \"Информация о приборах учета для бизнеса доступна на сайте.\"\n",
    "}\n",
    "\n",
    "def log_user_interaction(user_id, question, answer=None):\n",
    "    \"\"\"Логирует взаимодействия пользователя в CSV файл.\"\"\"\n",
    "    file_exists = os.path.isfile(\"user_interactions.csv\")\n",
    "    with open(\"user_interactions.csv\", \"a\", newline=\"\", encoding=\"utf-8\") as csvfile:\n",
    "        fieldnames = [\"timestamp\", \"user_id\", \"question\", \"answer\"]\n",
    "        writer = csv.DictWriter(csvfile, fieldnames=fieldnames)\n",
    "        if not file_exists:\n",
    "            writer.writeheader()\n",
    "        \n",
    "        row = {\n",
    "            \"timestamp\": datetime.now().strftime(\"%Y-%m-%d %H:%M:%S\"),\n",
    "            \"user_id\": user_id,\n",
    "            \"question\": question,\n",
    "            \"answer\": answer if answer else \"N/A\"\n",
    "        }\n",
    "        writer.writerow(row)\n",
    "\n",
    "print(\"Константы и вспомогательные функции бота определены.\")\n"
   ]
  },
  {
   "cell_type": "raw",
   "metadata": {
    "vscode": {
     "languageId": "raw"
    }
   },
   "source": [
    "## 6. Обработчики событий и настройка бота\n"
   ]
  },
  {
   "cell_type": "code",
   "execution_count": 6,
   "metadata": {},
   "outputs": [
    {
     "name": "stdout",
     "output_type": "stream",
     "text": [
      "Обработчики событий и функция настройки бота определены.\n"
     ]
    }
   ],
   "source": [
    "async def start(update: Update, context: ContextTypes.DEFAULT_TYPE) -> int:\n",
    "    \"\"\"Начинает диалог и спрашивает тип пользователя.\"\"\"\n",
    "    reply_markup = ReplyKeyboardMarkup(USER_TYPE_BUTTONS, one_time_keyboard=True, resize_keyboard=True)\n",
    "    await update.message.reply_text(\n",
    "        \"Здравствуйте! Я робот-консультант «Иркутскэнергосбыт».\\nПожалуйста, выберите ваш статус:\",\n",
    "        reply_markup=reply_markup,\n",
    "    )\n",
    "    return SELECTING_USER_TYPE\n",
    "\n",
    "async def select_user_type(update: Update, context: ContextTypes.DEFAULT_TYPE) -> int:\n",
    "    \"\"\"Сохраняет тип пользователя и предлагает выбрать тему.\"\"\"\n",
    "    context.user_data['user_type'] = update.message.text\n",
    "    reply_markup = ReplyKeyboardMarkup(TOPIC_BUTTONS, resize_keyboard=True)\n",
    "    await update.message.reply_text(\"Выберите тему Вашего вопроса:\", reply_markup=reply_markup)\n",
    "    return SELECTING_TOPIC\n",
    "\n",
    "async def handle_topic(update: Update, context: ContextTypes.DEFAULT_TYPE) -> int:\n",
    "    \"\"\"Обрабатывает выбор темы.\"\"\"\n",
    "    topic = update.message.text\n",
    "    user_type = context.user_data.get('user_type')\n",
    "\n",
    "    if topic == \"Назад\":\n",
    "        return await start(update, context)\n",
    "\n",
    "    if topic == \"Свой вопрос\":\n",
    "        await update.message.reply_text(\"Пожалуйста, введите ваш вопрос текстом:\")\n",
    "        return RAG_QUESTION\n",
    "\n",
    "    answers = PHYS_ANSWERS if user_type == \"Я физ. лицо\" else JUR_ANSWERS\n",
    "    answer = answers.get(topic, \"Пожалуйста, выберите одну из предложенных тем.\")\n",
    "    \n",
    "    await update.message.reply_text(answer)\n",
    "    log_user_interaction(update.message.from_user.id, topic, answer)\n",
    "    \n",
    "    reply_markup = ReplyKeyboardMarkup(FEEDBACK_BUTTONS, one_time_keyboard=True, resize_keyboard=True)\n",
    "    await update.message.reply_text(\"Оцените ответ бота\", reply_markup=reply_markup)\n",
    "    return FEEDBACK\n",
    "\n",
    "async def handle_rag_question(update: Update, context: ContextTypes.DEFAULT_TYPE) -> int:\n",
    "    \"\"\"Обрабатывает произвольный вопрос с помощью RAG.\"\"\"\n",
    "    question = update.message.text\n",
    "    retriever = context.bot_data[\"retriever\"]\n",
    "    llm_client = context.bot_data[\"llm_client\"]\n",
    "\n",
    "    await update.message.reply_text(\"Ваш вопрос обрабатывается, пожалуйста, подождите...\")\n",
    "\n",
    "    try:\n",
    "        answer = get_answer_with_llm(question, retriever, llm_client)\n",
    "        log_user_interaction(update.message.from_user.id, question, answer)\n",
    "        if len(answer) > 4000:\n",
    "            for i in range(0, len(answer), 4000):\n",
    "                await update.message.reply_text(answer[i:i+4000])\n",
    "        else:\n",
    "            await update.message.reply_text(answer)\n",
    "    except Exception as e:\n",
    "        logger.error(f\"Error processing RAG question: {e}\")\n",
    "        await update.message.reply_text(\"Извините, произошла ошибка при обработке вашего вопроса.\")\n",
    "\n",
    "    reply_markup = ReplyKeyboardMarkup(FEEDBACK_BUTTONS, one_time_keyboard=True, resize_keyboard=True)\n",
    "    await update.message.reply_text(\"Оцените ответ бота\", reply_markup=reply_markup)\n",
    "    return FEEDBACK\n",
    "    \n",
    "async def handle_feedback(update: Update, context: ContextTypes.DEFAULT_TYPE) -> int:\n",
    "    \"\"\"Обрабатывает обратную связь от пользователя.\"\"\"\n",
    "    feedback = update.message.text\n",
    "    log_user_interaction(update.message.from_user.id, \"feedback\", feedback)\n",
    "    \n",
    "    reply_markup = ReplyKeyboardMarkup(TOPIC_BUTTONS, resize_keyboard=True)\n",
    "    await update.message.reply_text(\"Спасибо за вашу оценку! Выберите следующую тему:\", reply_markup=reply_markup)\n",
    "    return SELECTING_TOPIC\n",
    "\n",
    "async def cancel(update: Update, context: ContextTypes.DEFAULT_TYPE) -> int:\n",
    "    \"\"\"Отменяет и завершает диалог.\"\"\"\n",
    "    await update.message.reply_text(\"Диалог завершен. Для нового вопроса нажмите /start\")\n",
    "    return ConversationHandler.END\n",
    "\n",
    "def setup_bot(retriever):\n",
    "    \"\"\"Настраивает и запускает Telegram-бота.\"\"\"\n",
    "    application = Application.builder().token(TELEGRAM_BOT_TOKEN).build()\n",
    "    llm_client = OpenAI(api_key=OPENAI_API_KEY, base_url=BASE_URL)\n",
    "\n",
    "    application.bot_data[\"retriever\"] = retriever\n",
    "    application.bot_data[\"llm_client\"] = llm_client\n",
    "\n",
    "    conv_handler = ConversationHandler(\n",
    "        entry_points=[CommandHandler(\"start\", start)],\n",
    "        states={\n",
    "            SELECTING_USER_TYPE: [MessageHandler(filters.Regex(r'^(Я физ\\. лицо|Я юр\\. лицо)$'), select_user_type)],\n",
    "            SELECTING_TOPIC: [MessageHandler(filters.TEXT & ~filters.COMMAND, handle_topic)],\n",
    "            RAG_QUESTION: [MessageHandler(filters.TEXT & ~filters.COMMAND, handle_rag_question)],\n",
    "            FEEDBACK: [MessageHandler(filters.Regex(r'^(👍|👎)$'), handle_feedback)],\n",
    "        },\n",
    "        fallbacks=[CommandHandler(\"cancel\", cancel)],\n",
    "    )\n",
    "\n",
    "    application.add_handler(conv_handler)\n",
    "    print(\"Бот настроен и запущен! Для остановки используйте Kernel -> Interrupt в меню.\")\n",
    "    application.run_polling()\n",
    "\n",
    "print(\"Обработчики событий и функция настройки бота определены.\")\n"
   ]
  },
  {
   "cell_type": "raw",
   "metadata": {
    "vscode": {
     "languageId": "raw"
    }
   },
   "source": [
    "## 7. ЗАПУСК БОТА\n",
    "\n",
    "⚠️ **ВНИМАНИЕ:** Перед запуском убедитесь, что:\n",
    "1. Вы заменили `YOUR_TELEGRAM_BOT_TOKEN` и `YOUR_NEBIUS_AI_API_KEY` на реальные значения в ячейке 6\n",
    "2. Файл `laws_docx.zip` находится в той же директории, что и этот ноутбук\n",
    "\n",
    "Выполните ячейку ниже для запуска бота:\n"
   ]
  },
  {
   "cell_type": "code",
   "execution_count": null,
   "metadata": {},
   "outputs": [
    {
     "name": "stdout",
     "output_type": "stream",
     "text": [
      "Загрузка документов...\n",
      "Загружено 6 документов.\n",
      "Создание ретривера...\n"
     ]
    },
    {
     "name": "stderr",
     "output_type": "stream",
     "text": [
      "/var/folders/1b/1vpr3vf56sjc44fq2x4hnmv40000gn/T/ipykernel_68551/2944534551.py:16: LangChainDeprecationWarning: The class `HuggingFaceEmbeddings` was deprecated in LangChain 0.2.2 and will be removed in 1.0. An updated version of the class exists in the :class:`~langchain-huggingface package and should be used instead. To use it run `pip install -U :class:`~langchain-huggingface` and import as `from :class:`~langchain_huggingface import HuggingFaceEmbeddings``.\n",
      "  embedding_function = SentenceTransformerEmbeddings(model_name=\"sergeyzh/BERTA\")\n",
      "/Users/hq-w7n17ktq29/cursor/tg_dummy/venv/lib/python3.9/site-packages/tqdm/auto.py:21: TqdmWarning: IProgress not found. Please update jupyter and ipywidgets. See https://ipywidgets.readthedocs.io/en/stable/user_install.html\n",
      "  from .autonotebook import tqdm as notebook_tqdm\n",
      "2025-07-11 10:21:26,198 - sentence_transformers.SentenceTransformer - INFO - Use pytorch device_name: mps\n",
      "2025-07-11 10:21:26,198 - sentence_transformers.SentenceTransformer - INFO - Load pretrained SentenceTransformer: sergeyzh/BERTA\n",
      "2025-07-11 10:21:30,830 - sentence_transformers.SentenceTransformer - INFO - 25 prompts are loaded, with the keys: ['query', 'passage', 'CEDRClassification', 'GeoreviewClassification', 'GeoreviewClusteringP2P', 'HeadlineClassification', 'InappropriatenessClassification', 'KinopoiskClassification', 'MassiveIntentClassification', 'MassiveScenarioClassification', 'RuReviewsClassification', 'RUParaPhraserSTS', 'RuSTSBenchmarkSTS', 'STS22', 'RuSciBenchGRNTIClassification', 'RuSciBenchGRNTIClusteringP2P', 'RuSciBenchOECDClassification', 'RuSciBenchOECDClusteringP2P', 'SensitiveTopicsClassification', 'TERRa', 'Classification', 'MultilabelClassification', 'Clustering', 'PairClassification', 'STS']\n",
      "2025-07-11 10:21:30,835 - sentence_transformers.SentenceTransformer - WARNING - Default prompt name is set to 'Classification'. This prompt will be applied to all `encode()` calls, except if `encode()` is called with `prompt` or `prompt_name` parameters.\n",
      "/var/folders/1b/1vpr3vf56sjc44fq2x4hnmv40000gn/T/ipykernel_68551/2944534551.py:21: LangChainDeprecationWarning: The class `Chroma` was deprecated in LangChain 0.2.9 and will be removed in 1.0. An updated version of the class exists in the :class:`~langchain-chroma package and should be used instead. To use it run `pip install -U :class:`~langchain-chroma` and import as `from :class:`~langchain_chroma import Chroma``.\n",
      "  vectorstore = Chroma(\n"
     ]
    },
    {
     "name": "stdout",
     "output_type": "stream",
     "text": [
      "Предупреждение: Используется хранилище в памяти. Эмбеддинги не будут сохранены.\n"
     ]
    },
    {
     "name": "stderr",
     "output_type": "stream",
     "text": [
      "2025-07-11 10:21:31,168 - chromadb.telemetry.product.posthog - INFO - Anonymized telemetry enabled. See                     https://docs.trychroma.com/telemetry for more information.\n",
      "huggingface/tokenizers: The current process just got forked, after parallelism has already been used. Disabling parallelism to avoid deadlocks...\n",
      "To disable this warning, you can either:\n",
      "\t- Avoid using `tokenizers` before the fork if possible\n",
      "\t- Explicitly set the environment variable TOKENIZERS_PARALLELISM=(true | false)\n"
     ]
    },
    {
     "name": "stdout",
     "output_type": "stream",
     "text": [
      "Добавление документов в хранилище. Это может занять некоторое время...\n",
      "Документы успешно добавлены.\n",
      "Запуск бота...\n",
      "Бот настроен и запущен! Для остановки используйте Kernel -> Interrupt в меню.\n"
     ]
    },
    {
     "name": "stderr",
     "output_type": "stream",
     "text": [
      "2025-07-11 10:23:21,541 - httpx - INFO - HTTP Request: POST https://api.telegram.org/bot8013234056:AAHmNKzV8UuWYTaUSmWoQO5K7C-I4UXhtQs/getMe \"HTTP/1.1 200 OK\"\n",
      "2025-07-11 10:23:21,646 - httpx - INFO - HTTP Request: POST https://api.telegram.org/bot8013234056:AAHmNKzV8UuWYTaUSmWoQO5K7C-I4UXhtQs/deleteWebhook \"HTTP/1.1 200 OK\"\n",
      "2025-07-11 10:23:21,649 - telegram.ext.Application - INFO - Application started\n",
      "2025-07-11 10:23:32,162 - httpx - INFO - HTTP Request: POST https://api.telegram.org/bot8013234056:AAHmNKzV8UuWYTaUSmWoQO5K7C-I4UXhtQs/getUpdates \"HTTP/1.1 200 OK\"\n",
      "2025-07-11 10:23:39,966 - httpx - INFO - HTTP Request: POST https://api.telegram.org/bot8013234056:AAHmNKzV8UuWYTaUSmWoQO5K7C-I4UXhtQs/getUpdates \"HTTP/1.1 200 OK\"\n",
      "2025-07-11 10:23:40,364 - httpx - INFO - HTTP Request: POST https://api.telegram.org/bot8013234056:AAHmNKzV8UuWYTaUSmWoQO5K7C-I4UXhtQs/sendMessage \"HTTP/1.1 200 OK\"\n",
      "2025-07-11 10:23:41,239 - httpx - INFO - HTTP Request: POST https://api.telegram.org/bot8013234056:AAHmNKzV8UuWYTaUSmWoQO5K7C-I4UXhtQs/getUpdates \"HTTP/1.1 200 OK\"\n",
      "2025-07-11 10:23:41,361 - httpx - INFO - HTTP Request: POST https://api.telegram.org/bot8013234056:AAHmNKzV8UuWYTaUSmWoQO5K7C-I4UXhtQs/sendMessage \"HTTP/1.1 200 OK\"\n",
      "2025-07-11 10:23:42,203 - httpx - INFO - HTTP Request: POST https://api.telegram.org/bot8013234056:AAHmNKzV8UuWYTaUSmWoQO5K7C-I4UXhtQs/getUpdates \"HTTP/1.1 200 OK\"\n",
      "2025-07-11 10:23:42,347 - httpx - INFO - HTTP Request: POST https://api.telegram.org/bot8013234056:AAHmNKzV8UuWYTaUSmWoQO5K7C-I4UXhtQs/sendMessage \"HTTP/1.1 200 OK\"\n",
      "2025-07-11 10:23:42,497 - httpx - INFO - HTTP Request: POST https://api.telegram.org/bot8013234056:AAHmNKzV8UuWYTaUSmWoQO5K7C-I4UXhtQs/sendMessage \"HTTP/1.1 200 OK\"\n",
      "2025-07-11 10:23:45,390 - httpx - INFO - HTTP Request: POST https://api.telegram.org/bot8013234056:AAHmNKzV8UuWYTaUSmWoQO5K7C-I4UXhtQs/getUpdates \"HTTP/1.1 200 OK\"\n",
      "2025-07-11 10:23:45,530 - httpx - INFO - HTTP Request: POST https://api.telegram.org/bot8013234056:AAHmNKzV8UuWYTaUSmWoQO5K7C-I4UXhtQs/sendMessage \"HTTP/1.1 200 OK\"\n",
      "2025-07-11 10:23:46,733 - httpx - INFO - HTTP Request: POST https://api.telegram.org/bot8013234056:AAHmNKzV8UuWYTaUSmWoQO5K7C-I4UXhtQs/getUpdates \"HTTP/1.1 200 OK\"\n",
      "2025-07-11 10:23:46,858 - httpx - INFO - HTTP Request: POST https://api.telegram.org/bot8013234056:AAHmNKzV8UuWYTaUSmWoQO5K7C-I4UXhtQs/sendMessage \"HTTP/1.1 200 OK\"\n",
      "2025-07-11 10:23:47,008 - httpx - INFO - HTTP Request: POST https://api.telegram.org/bot8013234056:AAHmNKzV8UuWYTaUSmWoQO5K7C-I4UXhtQs/sendMessage \"HTTP/1.1 200 OK\"\n",
      "2025-07-11 10:23:50,347 - httpx - INFO - HTTP Request: POST https://api.telegram.org/bot8013234056:AAHmNKzV8UuWYTaUSmWoQO5K7C-I4UXhtQs/getUpdates \"HTTP/1.1 200 OK\"\n",
      "2025-07-11 10:23:50,570 - httpx - INFO - HTTP Request: POST https://api.telegram.org/bot8013234056:AAHmNKzV8UuWYTaUSmWoQO5K7C-I4UXhtQs/sendMessage \"HTTP/1.1 200 OK\"\n",
      "2025-07-11 10:23:52,947 - httpx - INFO - HTTP Request: POST https://api.telegram.org/bot8013234056:AAHmNKzV8UuWYTaUSmWoQO5K7C-I4UXhtQs/getUpdates \"HTTP/1.1 200 OK\"\n",
      "2025-07-11 10:23:53,144 - httpx - INFO - HTTP Request: POST https://api.telegram.org/bot8013234056:AAHmNKzV8UuWYTaUSmWoQO5K7C-I4UXhtQs/sendMessage \"HTTP/1.1 200 OK\"\n",
      "2025-07-11 10:23:53,301 - httpx - INFO - HTTP Request: POST https://api.telegram.org/bot8013234056:AAHmNKzV8UuWYTaUSmWoQO5K7C-I4UXhtQs/sendMessage \"HTTP/1.1 200 OK\"\n",
      "2025-07-11 10:23:54,387 - httpx - INFO - HTTP Request: POST https://api.telegram.org/bot8013234056:AAHmNKzV8UuWYTaUSmWoQO5K7C-I4UXhtQs/getUpdates \"HTTP/1.1 200 OK\"\n",
      "2025-07-11 10:23:54,526 - httpx - INFO - HTTP Request: POST https://api.telegram.org/bot8013234056:AAHmNKzV8UuWYTaUSmWoQO5K7C-I4UXhtQs/sendMessage \"HTTP/1.1 200 OK\"\n",
      "2025-07-11 10:23:55,211 - httpx - INFO - HTTP Request: POST https://api.telegram.org/bot8013234056:AAHmNKzV8UuWYTaUSmWoQO5K7C-I4UXhtQs/getUpdates \"HTTP/1.1 200 OK\"\n",
      "2025-07-11 10:23:55,489 - httpx - INFO - HTTP Request: POST https://api.telegram.org/bot8013234056:AAHmNKzV8UuWYTaUSmWoQO5K7C-I4UXhtQs/sendMessage \"HTTP/1.1 200 OK\"\n",
      "2025-07-11 10:23:55,677 - httpx - INFO - HTTP Request: POST https://api.telegram.org/bot8013234056:AAHmNKzV8UuWYTaUSmWoQO5K7C-I4UXhtQs/sendMessage \"HTTP/1.1 200 OK\"\n",
      "2025-07-11 10:23:56,697 - httpx - INFO - HTTP Request: POST https://api.telegram.org/bot8013234056:AAHmNKzV8UuWYTaUSmWoQO5K7C-I4UXhtQs/getUpdates \"HTTP/1.1 200 OK\"\n",
      "2025-07-11 10:23:56,886 - httpx - INFO - HTTP Request: POST https://api.telegram.org/bot8013234056:AAHmNKzV8UuWYTaUSmWoQO5K7C-I4UXhtQs/sendMessage \"HTTP/1.1 200 OK\"\n",
      "2025-07-11 10:23:57,679 - httpx - INFO - HTTP Request: POST https://api.telegram.org/bot8013234056:AAHmNKzV8UuWYTaUSmWoQO5K7C-I4UXhtQs/getUpdates \"HTTP/1.1 200 OK\"\n",
      "2025-07-11 10:23:57,867 - httpx - INFO - HTTP Request: POST https://api.telegram.org/bot8013234056:AAHmNKzV8UuWYTaUSmWoQO5K7C-I4UXhtQs/sendMessage \"HTTP/1.1 200 OK\"\n",
      "2025-07-11 10:23:58,363 - httpx - INFO - HTTP Request: POST https://api.telegram.org/bot8013234056:AAHmNKzV8UuWYTaUSmWoQO5K7C-I4UXhtQs/sendMessage \"HTTP/1.1 200 OK\"\n",
      "2025-07-11 10:23:59,092 - httpx - INFO - HTTP Request: POST https://api.telegram.org/bot8013234056:AAHmNKzV8UuWYTaUSmWoQO5K7C-I4UXhtQs/getUpdates \"HTTP/1.1 200 OK\"\n",
      "2025-07-11 10:23:59,242 - httpx - INFO - HTTP Request: POST https://api.telegram.org/bot8013234056:AAHmNKzV8UuWYTaUSmWoQO5K7C-I4UXhtQs/sendMessage \"HTTP/1.1 200 OK\"\n",
      "2025-07-11 10:24:00,589 - httpx - INFO - HTTP Request: POST https://api.telegram.org/bot8013234056:AAHmNKzV8UuWYTaUSmWoQO5K7C-I4UXhtQs/getUpdates \"HTTP/1.1 200 OK\"\n",
      "2025-07-11 10:24:00,699 - httpx - INFO - HTTP Request: POST https://api.telegram.org/bot8013234056:AAHmNKzV8UuWYTaUSmWoQO5K7C-I4UXhtQs/sendMessage \"HTTP/1.1 200 OK\"\n",
      "2025-07-11 10:24:00,839 - httpx - INFO - HTTP Request: POST https://api.telegram.org/bot8013234056:AAHmNKzV8UuWYTaUSmWoQO5K7C-I4UXhtQs/sendMessage \"HTTP/1.1 200 OK\"\n",
      "2025-07-11 10:24:03,057 - httpx - INFO - HTTP Request: POST https://api.telegram.org/bot8013234056:AAHmNKzV8UuWYTaUSmWoQO5K7C-I4UXhtQs/getUpdates \"HTTP/1.1 200 OK\"\n",
      "2025-07-11 10:24:04,292 - httpx - INFO - HTTP Request: POST https://api.telegram.org/bot8013234056:AAHmNKzV8UuWYTaUSmWoQO5K7C-I4UXhtQs/getUpdates \"HTTP/1.1 200 OK\"\n",
      "2025-07-11 10:24:04,426 - httpx - INFO - HTTP Request: POST https://api.telegram.org/bot8013234056:AAHmNKzV8UuWYTaUSmWoQO5K7C-I4UXhtQs/sendMessage \"HTTP/1.1 200 OK\"\n",
      "2025-07-11 10:24:06,783 - httpx - INFO - HTTP Request: POST https://api.telegram.org/bot8013234056:AAHmNKzV8UuWYTaUSmWoQO5K7C-I4UXhtQs/getUpdates \"HTTP/1.1 200 OK\"\n",
      "2025-07-11 10:24:06,942 - httpx - INFO - HTTP Request: POST https://api.telegram.org/bot8013234056:AAHmNKzV8UuWYTaUSmWoQO5K7C-I4UXhtQs/sendMessage \"HTTP/1.1 200 OK\"\n",
      "2025-07-11 10:24:07,106 - httpx - INFO - HTTP Request: POST https://api.telegram.org/bot8013234056:AAHmNKzV8UuWYTaUSmWoQO5K7C-I4UXhtQs/sendMessage \"HTTP/1.1 200 OK\"\n",
      "2025-07-11 10:24:10,495 - httpx - INFO - HTTP Request: POST https://api.telegram.org/bot8013234056:AAHmNKzV8UuWYTaUSmWoQO5K7C-I4UXhtQs/getUpdates \"HTTP/1.1 200 OK\"\n",
      "2025-07-11 10:24:10,799 - httpx - INFO - HTTP Request: POST https://api.telegram.org/bot8013234056:AAHmNKzV8UuWYTaUSmWoQO5K7C-I4UXhtQs/sendMessage \"HTTP/1.1 200 OK\"\n",
      "2025-07-11 10:24:14,295 - httpx - INFO - HTTP Request: POST https://api.telegram.org/bot8013234056:AAHmNKzV8UuWYTaUSmWoQO5K7C-I4UXhtQs/getUpdates \"HTTP/1.1 200 OK\"\n",
      "2025-07-11 10:24:14,509 - httpx - INFO - HTTP Request: POST https://api.telegram.org/bot8013234056:AAHmNKzV8UuWYTaUSmWoQO5K7C-I4UXhtQs/sendMessage \"HTTP/1.1 200 OK\"\n",
      "2025-07-11 10:24:14,674 - httpx - INFO - HTTP Request: POST https://api.telegram.org/bot8013234056:AAHmNKzV8UuWYTaUSmWoQO5K7C-I4UXhtQs/sendMessage \"HTTP/1.1 200 OK\"\n",
      "2025-07-11 10:24:16,167 - httpx - INFO - HTTP Request: POST https://api.telegram.org/bot8013234056:AAHmNKzV8UuWYTaUSmWoQO5K7C-I4UXhtQs/getUpdates \"HTTP/1.1 200 OK\"\n",
      "2025-07-11 10:24:16,316 - httpx - INFO - HTTP Request: POST https://api.telegram.org/bot8013234056:AAHmNKzV8UuWYTaUSmWoQO5K7C-I4UXhtQs/sendMessage \"HTTP/1.1 200 OK\"\n",
      "2025-07-11 10:24:17,840 - httpx - INFO - HTTP Request: POST https://api.telegram.org/bot8013234056:AAHmNKzV8UuWYTaUSmWoQO5K7C-I4UXhtQs/getUpdates \"HTTP/1.1 200 OK\"\n",
      "2025-07-11 10:24:17,960 - httpx - INFO - HTTP Request: POST https://api.telegram.org/bot8013234056:AAHmNKzV8UuWYTaUSmWoQO5K7C-I4UXhtQs/sendMessage \"HTTP/1.1 200 OK\"\n",
      "2025-07-11 10:24:18,072 - httpx - INFO - HTTP Request: POST https://api.telegram.org/bot8013234056:AAHmNKzV8UuWYTaUSmWoQO5K7C-I4UXhtQs/sendMessage \"HTTP/1.1 200 OK\"\n",
      "2025-07-11 10:24:19,893 - httpx - INFO - HTTP Request: POST https://api.telegram.org/bot8013234056:AAHmNKzV8UuWYTaUSmWoQO5K7C-I4UXhtQs/getUpdates \"HTTP/1.1 200 OK\"\n",
      "2025-07-11 10:24:20,058 - httpx - INFO - HTTP Request: POST https://api.telegram.org/bot8013234056:AAHmNKzV8UuWYTaUSmWoQO5K7C-I4UXhtQs/sendMessage \"HTTP/1.1 200 OK\"\n",
      "2025-07-11 10:24:23,748 - httpx - INFO - HTTP Request: POST https://api.telegram.org/bot8013234056:AAHmNKzV8UuWYTaUSmWoQO5K7C-I4UXhtQs/getUpdates \"HTTP/1.1 200 OK\"\n",
      "2025-07-11 10:24:23,876 - httpx - INFO - HTTP Request: POST https://api.telegram.org/bot8013234056:AAHmNKzV8UuWYTaUSmWoQO5K7C-I4UXhtQs/sendMessage \"HTTP/1.1 200 OK\"\n",
      "2025-07-11 10:24:24,029 - httpx - INFO - HTTP Request: POST https://api.telegram.org/bot8013234056:AAHmNKzV8UuWYTaUSmWoQO5K7C-I4UXhtQs/sendMessage \"HTTP/1.1 200 OK\"\n",
      "2025-07-11 10:24:26,755 - httpx - INFO - HTTP Request: POST https://api.telegram.org/bot8013234056:AAHmNKzV8UuWYTaUSmWoQO5K7C-I4UXhtQs/getUpdates \"HTTP/1.1 200 OK\"\n",
      "2025-07-11 10:24:26,984 - httpx - INFO - HTTP Request: POST https://api.telegram.org/bot8013234056:AAHmNKzV8UuWYTaUSmWoQO5K7C-I4UXhtQs/sendMessage \"HTTP/1.1 200 OK\"\n",
      "2025-07-11 10:24:33,256 - httpx - INFO - HTTP Request: POST https://api.telegram.org/bot8013234056:AAHmNKzV8UuWYTaUSmWoQO5K7C-I4UXhtQs/getUpdates \"HTTP/1.1 200 OK\"\n",
      "2025-07-11 10:24:33,712 - httpx - INFO - HTTP Request: POST https://api.telegram.org/bot8013234056:AAHmNKzV8UuWYTaUSmWoQO5K7C-I4UXhtQs/sendMessage \"HTTP/1.1 200 OK\"\n",
      "2025-07-11 10:24:40,917 - httpx - INFO - HTTP Request: POST https://api.telegram.org/bot8013234056:AAHmNKzV8UuWYTaUSmWoQO5K7C-I4UXhtQs/getUpdates \"HTTP/1.1 200 OK\"\n",
      "2025-07-11 10:24:41,359 - httpx - INFO - HTTP Request: POST https://api.telegram.org/bot8013234056:AAHmNKzV8UuWYTaUSmWoQO5K7C-I4UXhtQs/sendMessage \"HTTP/1.1 200 OK\"\n",
      "/var/folders/1b/1vpr3vf56sjc44fq2x4hnmv40000gn/T/ipykernel_68551/2944534551.py:43: LangChainDeprecationWarning: The method `BaseRetriever.get_relevant_documents` was deprecated in langchain-core 0.1.46 and will be removed in 1.0. Use :meth:`~invoke` instead.\n",
      "  retrieved_docs = retriever.get_relevant_documents(question)\n",
      "2025-07-11 10:24:50,303 - httpx - INFO - HTTP Request: POST https://api.studio.nebius.com/v1/chat/completions \"HTTP/1.1 200 OK\"\n",
      "2025-07-11 10:24:50,747 - httpx - INFO - HTTP Request: POST https://api.telegram.org/bot8013234056:AAHmNKzV8UuWYTaUSmWoQO5K7C-I4UXhtQs/sendMessage \"HTTP/1.1 200 OK\"\n",
      "2025-07-11 10:24:50,870 - httpx - INFO - HTTP Request: POST https://api.telegram.org/bot8013234056:AAHmNKzV8UuWYTaUSmWoQO5K7C-I4UXhtQs/sendMessage \"HTTP/1.1 200 OK\"\n",
      "2025-07-11 10:24:51,017 - httpx - INFO - HTTP Request: POST https://api.telegram.org/bot8013234056:AAHmNKzV8UuWYTaUSmWoQO5K7C-I4UXhtQs/getUpdates \"HTTP/1.1 200 OK\"\n",
      "2025-07-11 10:25:01,160 - httpx - INFO - HTTP Request: POST https://api.telegram.org/bot8013234056:AAHmNKzV8UuWYTaUSmWoQO5K7C-I4UXhtQs/getUpdates \"HTTP/1.1 200 OK\"\n"
     ]
    }
   ],
   "source": [
    "# Главная функция запуска\n",
    "def main():\n",
    "    \"\"\"Главная функция для запуска юридического помощника.\"\"\"\n",
    "    \n",
    "    print(\"Загрузка документов...\")\n",
    "    docs = get_docs(data_path)\n",
    "    print(f\"Загружено {len(docs)} документов.\")\n",
    "\n",
    "    print(\"Создание ретривера...\")\n",
    "    retriever = create_retriever(docs)\n",
    "\n",
    "    print(\"Запуск бота...\")\n",
    "    setup_bot(retriever)\n",
    "\n",
    "# ЗАПУСК БОТА\n",
    "if __name__ == \"__main__\":\n",
    "    main()\n"
   ]
  }
 ],
 "metadata": {
  "kernelspec": {
   "display_name": "venv",
   "language": "python",
   "name": "python3"
  },
  "language_info": {
   "codemirror_mode": {
    "name": "ipython",
    "version": 3
   },
   "file_extension": ".py",
   "mimetype": "text/x-python",
   "name": "python",
   "nbconvert_exporter": "python",
   "pygments_lexer": "ipython3",
   "version": "3.9.6"
  }
 },
 "nbformat": 4,
 "nbformat_minor": 2
}
